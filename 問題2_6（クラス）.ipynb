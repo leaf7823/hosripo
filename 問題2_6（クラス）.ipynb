{
  "nbformat": 4,
  "nbformat_minor": 0,
  "metadata": {
    "colab": {
      "name": "問題2.6（クラス）",
      "version": "0.3.2",
      "provenance": [],
      "collapsed_sections": [],
      "include_colab_link": true
    },
    "kernelspec": {
      "name": "python3",
      "display_name": "Python 3"
    }
  },
  "cells": [
    {
      "cell_type": "markdown",
      "metadata": {
        "id": "view-in-github",
        "colab_type": "text"
      },
      "source": [
        "<a href=\"https://colab.research.google.com/github/leaf7823/hosripo/blob/master/%E5%95%8F%E9%A1%8C2_6%EF%BC%88%E3%82%AF%E3%83%A9%E3%82%B9%EF%BC%89.ipynb\" target=\"_parent\"><img src=\"https://colab.research.google.com/assets/colab-badge.svg\" alt=\"Open In Colab\"/></a>"
      ]
    },
    {
      "cell_type": "code",
      "metadata": {
        "id": "FSQr5kJVBWq-",
        "colab_type": "code",
        "outputId": "154a0662-a61d-429a-8c45-21251a7bee7e",
        "colab": {
          "base_uri": "https://localhost:8080/",
          "height": 215
        }
      },
      "source": [
        "# 問題2.6（クラス）\n",
        "\n",
        "class DataManager:\n",
        "  \n",
        "   def __init__(self,x,y,z):\n",
        "      self.x = x\n",
        "      self.y = y\n",
        "      self.z = z\n",
        "      \n",
        "      \n",
        "   def add_x(self, delta):\n",
        "      self.x = self.x + delta\n",
        "      print(self.x)\n",
        "      \n",
        "   def add_y(self, delta):\n",
        "      self.y = self.y + delta\n",
        "      print(self.y)\n",
        "      \n",
        "   def add_z(self, delta):\n",
        "      self.z = self.z + delta\n",
        "      print(self.z)\n",
        "  \n",
        "   def sum(self):\n",
        "      self = self.x+self.y+self.z\n",
        "      print('# => ',format(self))\n",
        "      return\n",
        "      \n",
        "data_manager =  DataManager(2,3,5)\n",
        "print(data_manager.sum())\n",
        "\n",
        "data_manager.add_x(4)\n",
        "print(data_manager.sum())\n",
        "\n",
        "data_manager.add_y(0)\n",
        "print(data_manager.sum())\n",
        "\n",
        "data_manager.add_z(-9)\n",
        "print(data_manager.sum())\n"
      ],
      "execution_count": 0,
      "outputs": [
        {
          "output_type": "stream",
          "text": [
            "# =>  10\n",
            "None\n",
            "6\n",
            "# =>  14\n",
            "None\n",
            "3\n",
            "# =>  14\n",
            "None\n",
            "-4\n",
            "# =>  5\n",
            "None\n"
          ],
          "name": "stdout"
        }
      ]
    }
  ]
}