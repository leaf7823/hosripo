{
 "cells": [
  {
   "cell_type": "code",
   "execution_count": 7,
   "metadata": {},
   "outputs": [],
   "source": [
    "# S3からファイルのインポート\n",
    "import boto3\n",
    "#s3 = boto3.resource('s3')\n",
    "#s3.meta.client.download_file('jupiter-im','source/notebook.tgz','notebook.tgz')\n",
    "s3 = boto3.resource('s3')\n",
    "s3.meta.client.download_file('jupiter-im','data/custome/seikyusho_company_datasrc_label_20190821.csv','seikyusho_company_datasrc_label_20190821.csv')"
   ]
  },
  {
   "cell_type": "code",
   "execution_count": 6,
   "metadata": {},
   "outputs": [
    {
     "name": "stdout",
     "output_type": "stream",
     "text": [
      "\r\n",
      "gzip: stdin: not in gzip format\r\n",
      "tar: Child returned status 1\r\n",
      "tar: Error is not recoverable: exiting now\r\n"
     ]
    }
   ],
   "source": [
    "# tgzファイルの解凍\n",
    "!tar xfvz notebook.tgz"
   ]
  },
  {
   "cell_type": "code",
   "execution_count": null,
   "metadata": {},
   "outputs": [],
   "source": []
  }
 ],
 "metadata": {
  "kernelspec": {
   "display_name": "conda_python3",
   "language": "python",
   "name": "conda_python3"
  },
  "language_info": {
   "codemirror_mode": {
    "name": "ipython",
    "version": 3
   },
   "file_extension": ".py",
   "mimetype": "text/x-python",
   "name": "python",
   "nbconvert_exporter": "python",
   "pygments_lexer": "ipython3",
   "version": "3.6.5"
  }
 },
 "nbformat": 4,
 "nbformat_minor": 2
}
