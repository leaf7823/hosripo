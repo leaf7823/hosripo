{
  "nbformat": 4,
  "nbformat_minor": 0,
  "metadata": {
    "colab": {
      "name": "変数",
      "version": "0.3.2",
      "provenance": [],
      "include_colab_link": true
    },
    "kernelspec": {
      "name": "python3",
      "display_name": "Python 3"
    }
  },
  "cells": [
    {
      "cell_type": "markdown",
      "metadata": {
        "id": "view-in-github",
        "colab_type": "text"
      },
      "source": [
        "<a href=\"https://colab.research.google.com/github/leaf7823/hosripo/blob/master/%E5%A4%89%E6%95%B0.ipynb\" target=\"_parent\"><img src=\"https://colab.research.google.com/assets/colab-badge.svg\" alt=\"Open In Colab\"/></a>"
      ]
    },
    {
      "cell_type": "code",
      "metadata": {
        "id": "8BDTX1F4HF-U",
        "colab_type": "code",
        "outputId": "a2afa7b8-f3cc-4a7c-c66e-5ea3506d61c9",
        "colab": {
          "base_uri": "https://localhost:8080/",
          "height": 107
        }
      },
      "source": [
        "a = 100\n",
        " \n",
        "b = c = 200\n",
        " \n",
        "d,e = 300,400\n",
        " \n",
        "print(\"a=\",a)\n",
        "print(\"b=\",b)\n",
        "print(\"c=\",c)\n",
        "print(\"d=\",d)\n",
        "print(\"e=\",e)"
      ],
      "execution_count": 0,
      "outputs": [
        {
          "output_type": "stream",
          "text": [
            "a= 100\n",
            "b= 200\n",
            "c= 200\n",
            "d= 300\n",
            "e= 400\n"
          ],
          "name": "stdout"
        }
      ]
    },
    {
      "cell_type": "code",
      "metadata": {
        "id": "om_eXDdeHZtP",
        "colab_type": "code",
        "outputId": "89652c98-3952-4350-e013-e1cf277a7144",
        "colab": {
          "base_uri": "https://localhost:8080/",
          "height": 53
        }
      },
      "source": [
        "def msg():\n",
        "    print(\"Hello\")\n",
        " \n",
        "func = msg\n",
        " \n",
        "msg()\n",
        "func()"
      ],
      "execution_count": 0,
      "outputs": [
        {
          "output_type": "stream",
          "text": [
            "Hello\n",
            "Hello\n"
          ],
          "name": "stdout"
        }
      ]
    }
  ]
}