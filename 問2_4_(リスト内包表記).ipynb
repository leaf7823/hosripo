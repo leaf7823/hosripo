{
  "nbformat": 4,
  "nbformat_minor": 0,
  "metadata": {
    "colab": {
      "name": "問2.4 (リスト内包表記)",
      "version": "0.3.2",
      "provenance": [],
      "collapsed_sections": [],
      "include_colab_link": true
    },
    "kernelspec": {
      "name": "python3",
      "display_name": "Python 3"
    }
  },
  "cells": [
    {
      "cell_type": "markdown",
      "metadata": {
        "id": "view-in-github",
        "colab_type": "text"
      },
      "source": [
        "<a href=\"https://colab.research.google.com/github/leaf7823/hosripo/blob/master/%E5%95%8F2_4_(%E3%83%AA%E3%82%B9%E3%83%88%E5%86%85%E5%8C%85%E8%A1%A8%E8%A8%98).ipynb\" target=\"_parent\"><img src=\"https://colab.research.google.com/assets/colab-badge.svg\" alt=\"Open In Colab\"/></a>"
      ]
    },
    {
      "cell_type": "code",
      "metadata": {
        "id": "dxneQiUVN94O",
        "colab_type": "code",
        "outputId": "e8d4a7bf-fbf9-4c4a-bf9c-65d182ada3fb",
        "colab": {
          "base_uri": "https://localhost:8080/",
          "height": 34
        }
      },
      "source": [
        "# リスト内包表記はリストを生成するための簡潔な手段です。例えば、平方数のリスト [0, 1, 4, 9, 16, ...] を構成したいとき\n",
        "squares = []\n",
        "#for x in range(10):\n",
        "#   print(squares)\n",
        "#   print(x)\n",
        "#   squares.append(x ** 2)\n",
        "\n",
        "squares = [x ** 2 for x in range(10)]\n",
        "print(squares)"
      ],
      "execution_count": 0,
      "outputs": [
        {
          "output_type": "stream",
          "text": [
            "[0, 1, 4, 9, 16, 25, 36, 49, 64, 81]\n"
          ],
          "name": "stdout"
        }
      ]
    },
    {
      "cell_type": "code",
      "metadata": {
        "id": "LomUbAk1QuH0",
        "colab_type": "code",
        "outputId": "8d5ce667-480a-463e-eb2b-a05198ce47bc",
        "colab": {
          "base_uri": "https://localhost:8080/",
          "height": 34
        }
      },
      "source": [
        "# リスト内包表記で in の後に続く iterable オブジェクトは range である必要はなく、例えばリストを指定\n",
        "a = [4, 8, 3, 4, 1]\n",
        "squares = [x ** 2 for x in a]\n",
        "print(squares)  # => [16, 64, 9, 16, 1]"
      ],
      "execution_count": 0,
      "outputs": [
        {
          "output_type": "stream",
          "text": [
            "[16, 64, 9, 16, 1]\n"
          ],
          "name": "stdout"
        }
      ]
    },
    {
      "cell_type": "code",
      "metadata": {
        "id": "81bz-BgOScBl",
        "colab_type": "code",
        "outputId": "0d47c81e-291a-48ae-e5ee-edc29a6872c8",
        "colab": {
          "base_uri": "https://localhost:8080/",
          "height": 122
        }
      },
      "source": [
        "#a=[4, 8, 3, 4, 1] というリストに対し、要素が偶数なら 0, 奇数なら 1 に変換するコード\n",
        "\n",
        "a=[4, 8, 3, 4, 1] \n",
        "\n",
        "for i in range(5):\n",
        "    print(i)\n",
        "    if  a[i]%2 == 0:\n",
        "        a[i] = 0\n",
        "    else:\n",
        "        a[i]=1\n",
        "print(a)\n",
        "\n",
        "\n"
      ],
      "execution_count": 0,
      "outputs": [
        {
          "output_type": "stream",
          "text": [
            "0\n",
            "1\n",
            "2\n",
            "3\n",
            "4\n",
            "[0, 0, 1, 0, 1]\n"
          ],
          "name": "stdout"
        }
      ]
    },
    {
      "cell_type": "code",
      "metadata": {
        "id": "2kG_uU8JVA8y",
        "colab_type": "code",
        "outputId": "9670d09e-4e32-4388-aa31-b915ec995943",
        "colab": {
          "base_uri": "https://localhost:8080/",
          "height": 34
        }
      },
      "source": [
        "#a=[4, 8, 3, 4, 1] というリストに対し、要素が偶数なら 0, 奇数なら 1 に変換する(リスト内包表記\n",
        "\n",
        "a=[4, 8, 3, 4, 3] \n",
        "\n",
        "a = [0 if a[i] % 2 == 0  else 1 for i in range(5)]\n",
        "print(a)"
      ],
      "execution_count": 0,
      "outputs": [
        {
          "output_type": "stream",
          "text": [
            "[0, 0, 1, 0, 1]\n"
          ],
          "name": "stdout"
        }
      ]
    },
    {
      "cell_type": "code",
      "metadata": {
        "id": "UmY43GyxVBX4",
        "colab_type": "code",
        "outputId": "71f64b2f-4223-433b-c1bb-81958aef0276",
        "colab": {
          "base_uri": "https://localhost:8080/",
          "height": 34
        }
      },
      "source": [
        "#a=[4, 8, 3, 4, 1] というリストに対し、要素が偶数なら 0, 奇数なら 1 に変換する(リスト内包表記\n",
        "\n",
        "a=[4, 8, 3, 4, 3] \n",
        "\n",
        "a = [0 if a[i] % 2 == 0  else 1 for i in range(5)]\n",
        "print(a.count(0))"
      ],
      "execution_count": 0,
      "outputs": [
        {
          "output_type": "stream",
          "text": [
            "3\n"
          ],
          "name": "stdout"
        }
      ]
    },
    {
      "cell_type": "code",
      "metadata": {
        "id": "HfgHqQu9xs7S",
        "colab_type": "code",
        "outputId": "0c6a1565-d6f3-49db-d2e4-257be3e5239d",
        "colab": {
          "base_uri": "https://localhost:8080/",
          "height": 34
        }
      },
      "source": [
        "#a=[4, 8, 3, 4, 1] というリストに対し、要素が偶数なら 0, 奇数なら 1 に変換する(リスト内包表記\n",
        "\n",
        "a=[4, 8, 3, 4, 3] \n",
        "\n",
        "a = [a[i] for i in range(5) if a[i] % 2 != 0]\n",
        "print(a)"
      ],
      "execution_count": 0,
      "outputs": [
        {
          "output_type": "stream",
          "text": [
            "[3, 3]\n"
          ],
          "name": "stdout"
        }
      ]
    }
  ]
}