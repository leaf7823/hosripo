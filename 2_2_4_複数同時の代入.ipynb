{
  "nbformat": 4,
  "nbformat_minor": 0,
  "metadata": {
    "colab": {
      "name": "2.2.4. 複数同時の代入",
      "version": "0.3.2",
      "provenance": [],
      "include_colab_link": true
    },
    "kernelspec": {
      "name": "python3",
      "display_name": "Python 3"
    }
  },
  "cells": [
    {
      "cell_type": "markdown",
      "metadata": {
        "id": "view-in-github",
        "colab_type": "text"
      },
      "source": [
        "<a href=\"https://colab.research.google.com/github/leaf7823/hosripo/blob/master/2_2_4_%E8%A4%87%E6%95%B0%E5%90%8C%E6%99%82%E3%81%AE%E4%BB%A3%E5%85%A5.ipynb\" target=\"_parent\"><img src=\"https://colab.research.google.com/assets/colab-badge.svg\" alt=\"Open In Colab\"/></a>"
      ]
    },
    {
      "cell_type": "code",
      "metadata": {
        "id": "DblZnQ8QGegF",
        "colab_type": "code",
        "colab": {}
      },
      "source": [
        "a, b = 1, 1.2"
      ],
      "execution_count": 0,
      "outputs": []
    },
    {
      "cell_type": "code",
      "metadata": {
        "id": "MICyeQIGGlBr",
        "colab_type": "code",
        "colab": {}
      },
      "source": [
        "a, b, c = 1, 1.2, 'Chainer'"
      ],
      "execution_count": 0,
      "outputs": []
    }
  ]
}