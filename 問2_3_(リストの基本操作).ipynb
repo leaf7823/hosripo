{
  "nbformat": 4,
  "nbformat_minor": 0,
  "metadata": {
    "colab": {
      "name": "問2.3 (リストの基本操作)",
      "version": "0.3.2",
      "provenance": [],
      "include_colab_link": true
    },
    "kernelspec": {
      "name": "python3",
      "display_name": "Python 3"
    }
  },
  "cells": [
    {
      "cell_type": "markdown",
      "metadata": {
        "id": "view-in-github",
        "colab_type": "text"
      },
      "source": [
        "<a href=\"https://colab.research.google.com/github/leaf7823/hosripo/blob/master/%E5%95%8F2_3_(%E3%83%AA%E3%82%B9%E3%83%88%E3%81%AE%E5%9F%BA%E6%9C%AC%E6%93%8D%E4%BD%9C).ipynb\" target=\"_parent\"><img src=\"https://colab.research.google.com/assets/colab-badge.svg\" alt=\"Open In Colab\"/></a>"
      ]
    },
    {
      "cell_type": "code",
      "metadata": {
        "id": "pr83USbH97Hg",
        "colab_type": "code",
        "outputId": "ab132530-a360-4da9-ea1f-f29e501e82f6",
        "colab": {
          "base_uri": "https://localhost:8080/",
          "height": 34
        }
      },
      "source": [
        "# 問2.3 (リストの基本操作) 課題１\n",
        "a = [4, 8, 3, 4, 1]\n",
        "\n",
        "b= a[1:]\n",
        "\n",
        "print(b)"
      ],
      "execution_count": 0,
      "outputs": [
        {
          "output_type": "stream",
          "text": [
            "[8, 3, 4, 1]\n"
          ],
          "name": "stdout"
        }
      ]
    },
    {
      "cell_type": "code",
      "metadata": {
        "id": "6NJulrbaBVvs",
        "colab_type": "code",
        "outputId": "bd0fc2a4-a4e5-4bf4-f88d-d417bac0d7ef",
        "colab": {
          "base_uri": "https://localhost:8080/",
          "height": 34
        }
      },
      "source": [
        "# 問2.3 (リストの基本操作) 課題2\n",
        "a = [4, 8, 3, 4, 1]\n",
        "\n",
        "b= a[0:4]\n",
        "\n",
        "print(b)"
      ],
      "execution_count": 0,
      "outputs": [
        {
          "output_type": "stream",
          "text": [
            "[4, 8, 3, 4]\n"
          ],
          "name": "stdout"
        }
      ]
    },
    {
      "cell_type": "code",
      "metadata": {
        "id": "3hw48_R_Baoz",
        "colab_type": "code",
        "outputId": "15d9def1-ad61-4dde-c129-119ae1542631",
        "colab": {
          "base_uri": "https://localhost:8080/",
          "height": 34
        }
      },
      "source": [
        "# 問2.3 (リストの基本操作) 課題3\n",
        "a = [4, 8, 3, 4, 1]\n",
        "a.append(100)\n",
        "\n",
        "print(a)"
      ],
      "execution_count": 0,
      "outputs": [
        {
          "output_type": "stream",
          "text": [
            "[4, 8, 3, 4, 1, 100]\n"
          ],
          "name": "stdout"
        }
      ]
    }
  ]
}