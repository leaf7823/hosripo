{
 "cells": [
  {
   "cell_type": "code",
   "execution_count": null,
   "metadata": {},
   "outputs": [],
   "source": [
    "!pip install py2neo"
   ]
  },
  {
   "cell_type": "code",
   "execution_count": 3,
   "metadata": {},
   "outputs": [],
   "source": [
    "import json\n",
    "from py2neo import Graph"
   ]
  },
  {
   "cell_type": "code",
   "execution_count": 4,
   "metadata": {},
   "outputs": [],
   "source": [
    "graph = Graph(\"http://172.30.0.202:7474\",auth=(\"neo4j\",\"neo4j_kuwagata\"))"
   ]
  },
  {
   "cell_type": "code",
   "execution_count": 5,
   "metadata": {},
   "outputs": [
    {
     "name": "stdout",
     "output_type": "stream",
     "text": [
      "***\n",
      "***\n",
      "end!!!\n"
     ]
    }
   ],
   "source": [
    "graph.run(\n",
    "        \"CREATE INDEX ON :Cardno(cardno);\"\n",
    "         )\n",
    "print(\"***\")\n",
    "graph.run(\n",
    "        \"CREATE INDEX ON :Buyname(buyname);\"\n",
    "         )\n",
    "print(\"***\")\n",
    "graph.run(\n",
    "        \"CREATE INDEX ON :Email(Email);\"\n",
    "         )\n",
    "print('end!!!')"
   ]
  },
  {
   "cell_type": "code",
   "execution_count": 10,
   "metadata": {},
   "outputs": [
    {
     "data": {
      "text/html": [
       "<table><tr><th>a.name</th><th>a.born</th></tr><tr><td style=\"text-align:left\">Emil</td><td style=\"text-align:right\">null</td></tr><tr><td style=\"text-align:left\">Johan</td><td style=\"text-align:right\">null</td></tr><tr><td style=\"text-align:left\">Ian</td><td style=\"text-align:right\">null</td></tr></table>"
      ],
      "text/plain": [
       " a.name | a.born \n",
       "--------|--------\n",
       " Emil   |   null \n",
       " Johan  |   null \n",
       " Ian    |   null "
      ]
     },
     "execution_count": 10,
     "metadata": {},
     "output_type": "execute_result"
    }
   ],
   "source": [
    "graph.run(\"MATCH (a:Person) RETURN a.name,a.born LIMIT 3\").to_table()"
   ]
  },
  {
   "cell_type": "code",
   "execution_count": 12,
   "metadata": {},
   "outputs": [],
   "source": [
    "a = graph.run(\"MATCH (a:Person) RETURN a.name,a.born LIMIT 3\").to_ndarray()"
   ]
  },
  {
   "cell_type": "code",
   "execution_count": 13,
   "metadata": {},
   "outputs": [
    {
     "data": {
      "text/plain": [
       "array([['Emil', None],\n",
       "       ['Johan', None],\n",
       "       ['Ian', None]], dtype=object)"
      ]
     },
     "execution_count": 13,
     "metadata": {},
     "output_type": "execute_result"
    }
   ],
   "source": [
    "a\n"
   ]
  },
  {
   "cell_type": "code",
   "execution_count": 7,
   "metadata": {},
   "outputs": [
    {
     "data": {
      "text/plain": [
       "[]"
      ]
     },
     "execution_count": 7,
     "metadata": {},
     "output_type": "execute_result"
    }
   ],
   "source": [
    "[(a[\"name\"], a[\"born\"])\n",
    " for a in graph.nodes.match(\"person\").limit(3)]"
   ]
  },
  {
   "cell_type": "code",
   "execution_count": null,
   "metadata": {},
   "outputs": [],
   "source": []
  }
 ],
 "metadata": {
  "kernelspec": {
   "display_name": "conda_python3",
   "language": "python",
   "name": "conda_python3"
  },
  "language_info": {
   "codemirror_mode": {
    "name": "ipython",
    "version": 3
   },
   "file_extension": ".py",
   "mimetype": "text/x-python",
   "name": "python",
   "nbconvert_exporter": "python",
   "pygments_lexer": "ipython3",
   "version": "3.6.5"
  }
 },
 "nbformat": 4,
 "nbformat_minor": 2
}
