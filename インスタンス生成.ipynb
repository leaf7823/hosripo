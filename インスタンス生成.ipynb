{
  "nbformat": 4,
  "nbformat_minor": 0,
  "metadata": {
    "colab": {
      "name": "インスタンス生成",
      "version": "0.3.2",
      "provenance": [],
      "include_colab_link": true
    },
    "kernelspec": {
      "name": "python3",
      "display_name": "Python 3"
    }
  },
  "cells": [
    {
      "cell_type": "markdown",
      "metadata": {
        "id": "view-in-github",
        "colab_type": "text"
      },
      "source": [
        "<a href=\"https://colab.research.google.com/github/leaf7823/hosripo/blob/master/%E3%82%A4%E3%83%B3%E3%82%B9%E3%82%BF%E3%83%B3%E3%82%B9%E7%94%9F%E6%88%90.ipynb\" target=\"_parent\"><img src=\"https://colab.research.google.com/assets/colab-badge.svg\" alt=\"Open In Colab\"/></a>"
      ]
    },
    {
      "cell_type": "code",
      "metadata": {
        "id": "h7DpQQMzCTzJ",
        "colab_type": "code",
        "outputId": "5b5d300a-f25b-48b9-971d-701d7aa4972d",
        "colab": {
          "base_uri": "https://localhost:8080/",
          "height": 35
        }
      },
      "source": [
        "# クラスは、データや処理の定義をまとめた雛型のようなものであり\n",
        "# これらのデータやメソッドを使うためには「インスタンス」と呼ばれるものを生成する必要がある。\n",
        "# インスタンスとは、クラスを実体化したもの\n",
        "# とつのクラスに対してインスタンスは複数生成することができ、それぞれのインタンスは別々のデータを持つ\n",
        "\n",
        "class MyClass:\n",
        "   def __init__(self, text):   # インスタンス生成時に自動的に呼ばれるメソッド\n",
        "          self.value = text\n",
        " \n",
        "   def print_value(self):      # 変数 value の値を表示するメソッド\n",
        "          print(self.value)\n",
        " \n",
        "if __name__ == \"__main__\":\n",
        "     a = MyClass(\"abc\")          # MyClass のインスタンスを生成\n",
        "     a.print_value()             # abc"
      ],
      "execution_count": 0,
      "outputs": [
        {
          "output_type": "stream",
          "text": [
            "abc\n"
          ],
          "name": "stdout"
        }
      ]
    }
  ]
}