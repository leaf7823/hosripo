{
  "nbformat": 4,
  "nbformat_minor": 0,
  "metadata": {
    "colab": {
      "name": "デバッグ",
      "version": "0.3.2",
      "provenance": [],
      "collapsed_sections": [],
      "include_colab_link": true
    },
    "kernelspec": {
      "name": "python3",
      "display_name": "Python 3"
    }
  },
  "cells": [
    {
      "cell_type": "markdown",
      "metadata": {
        "id": "view-in-github",
        "colab_type": "text"
      },
      "source": [
        "<a href=\"https://colab.research.google.com/github/leaf7823/hosripo/blob/master/%E3%83%87%E3%83%90%E3%83%83%E3%82%B0.ipynb\" target=\"_parent\"><img src=\"https://colab.research.google.com/assets/colab-badge.svg\" alt=\"Open In Colab\"/></a>"
      ]
    },
    {
      "cell_type": "code",
      "metadata": {
        "id": "G6fGD8Q1J6gl",
        "colab_type": "code",
        "outputId": "67094e90-f22d-41a6-8c9f-6908a90a50de",
        "colab": {
          "base_uri": "https://localhost:8080/",
          "height": 34
        }
      },
      "source": [
        "# 変数testが偽ならAssertionError例外を発生させる。\n",
        "# 条件式がTrueではない時に、例外を発生\n",
        "\n",
        "test = \"a\"\n",
        "data = \"assertion error\"\n",
        "\n",
        "try:\n",
        "    assert test,data\n",
        "except AssertionError:\n",
        "    print(data)\n",
        "finally:\n",
        "    print(\"the end\")\n",
        "    "
      ],
      "execution_count": 0,
      "outputs": [
        {
          "output_type": "stream",
          "text": [
            "the end\n"
          ],
          "name": "stdout"
        }
      ]
    },
    {
      "cell_type": "code",
      "metadata": {
        "id": "AjxdnwjWMfYF",
        "colab_type": "code",
        "outputId": "af2ef309-c12f-438c-f4f2-e81bbbf31bbe",
        "colab": {
          "base_uri": "https://localhost:8080/",
          "height": 280
        }
      },
      "source": [
        "import pdb #まずpdbをインポート\n",
        " \n",
        "pdb.set_trace() #ここでset_trace()\n",
        "\n",
        " \n",
        "print(\"Hello World!\")"
      ],
      "execution_count": 0,
      "outputs": [
        {
          "output_type": "stream",
          "text": [
            "--Return--\n",
            "> <ipython-input-14-c16b9fecbec2>(3)<module>()->None\n",
            "-> pdb.set_trace() #ここでset_trace()\n",
            "(Pdb) \n",
            "(Pdb) a\n",
            "(Pdb) start\n",
            "*** NameError: name 'start' is not defined\n",
            "(Pdb) l\n",
            "  1  \timport pdb #まずpdbをインポート\n",
            "  2  \t\n",
            "  3  ->\tpdb.set_trace() #ここでset_trace()\n",
            "  4  \t\n",
            "  5  \tprint(\"Hello World!\")\n",
            "[EOF]\n"
          ],
          "name": "stdout"
        }
      ]
    }
  ]
}