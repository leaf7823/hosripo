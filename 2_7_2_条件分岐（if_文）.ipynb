{
  "nbformat": 4,
  "nbformat_minor": 0,
  "metadata": {
    "colab": {
      "name": "2.7.2. 条件分岐（if 文）",
      "version": "0.3.2",
      "provenance": [],
      "include_colab_link": true
    },
    "kernelspec": {
      "name": "python3",
      "display_name": "Python 3"
    }
  },
  "cells": [
    {
      "cell_type": "markdown",
      "metadata": {
        "id": "view-in-github",
        "colab_type": "text"
      },
      "source": [
        "<a href=\"https://colab.research.google.com/github/leaf7823/hosripo/blob/master/2_7_2_%E6%9D%A1%E4%BB%B6%E5%88%86%E5%B2%90%EF%BC%88if_%E6%96%87%EF%BC%89.ipynb\" target=\"_parent\"><img src=\"https://colab.research.google.com/assets/colab-badge.svg\" alt=\"Open In Colab\"/></a>"
      ]
    },
    {
      "cell_type": "code",
      "metadata": {
        "id": "Kl12CoJYNJOT",
        "colab_type": "code",
        "outputId": "759b6b6c-da39-42fc-a429-65081f0434c8",
        "colab": {
          "base_uri": "https://localhost:8080/",
          "height": 34
        }
      },
      "source": [
        "# 0 より大きいことを条件とした処理\n",
        "a = 1\n",
        "\n",
        "if a > 0:\n",
        "    print('0より大きいです')\n",
        "else:\n",
        "    print('0以下です')"
      ],
      "execution_count": 0,
      "outputs": [
        {
          "output_type": "stream",
          "text": [
            "0より大きいです\n"
          ],
          "name": "stdout"
        }
      ]
    },
    {
      "cell_type": "code",
      "metadata": {
        "id": "-Bkf4IGhOM-n",
        "colab_type": "code",
        "outputId": "5e6abb44-0cbc-42a6-e12e-641cdfeb9fa8",
        "colab": {
          "base_uri": "https://localhost:8080/",
          "height": 34
        }
      },
      "source": [
        "# if の条件を満たさない場合\n",
        "a = -1\n",
        "\n",
        "if a > 0:\n",
        "    print('0より大きいです')\n",
        "else:\n",
        "    print('0以下です')"
      ],
      "execution_count": 0,
      "outputs": [
        {
          "output_type": "stream",
          "text": [
            "0以下です\n"
          ],
          "name": "stdout"
        }
      ]
    },
    {
      "cell_type": "code",
      "metadata": {
        "id": "wpK8CHNdOSjc",
        "colab_type": "code",
        "outputId": "93d7bc0d-5450-4f02-80b1-1fb4f1687d8f",
        "colab": {
          "base_uri": "https://localhost:8080/",
          "height": 34
        }
      },
      "source": [
        "# if に対する条件以外の条件分岐を追加する場合は、下記のように elif を使う\n",
        "a = 0\n",
        "\n",
        "if a > 0:\n",
        "    print('0より大きいです')\n",
        "elif a == 0:\n",
        "    print('０です')\n",
        "else:\n",
        "    print('0より小さいです')"
      ],
      "execution_count": 0,
      "outputs": [
        {
          "output_type": "stream",
          "text": [
            "０です\n"
          ],
          "name": "stdout"
        }
      ]
    },
    {
      "cell_type": "code",
      "metadata": {
        "id": "Ge0AgYVKOlsI",
        "colab_type": "code",
        "outputId": "e7759016-d7f6-4f95-dd06-914de7ae0594",
        "colab": {
          "base_uri": "https://localhost:8080/",
          "height": 34
        }
      },
      "source": [
        "# if に対する条件以外の条件分岐を追加する場合は、下記のように elif を使う (elseなしパターン)\n",
        "a = 0\n",
        "\n",
        "if a > 0:\n",
        "    print('0より大きいです')\n",
        "elif a == 0:\n",
        "    print('０です')\n"
      ],
      "execution_count": 0,
      "outputs": [
        {
          "output_type": "stream",
          "text": [
            "０です\n"
          ],
          "name": "stdout"
        }
      ]
    }
  ]
}