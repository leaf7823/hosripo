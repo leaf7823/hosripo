{
  "nbformat": 4,
  "nbformat_minor": 0,
  "metadata": {
    "colab": {
      "name": "問2.5 (文字列)",
      "version": "0.3.2",
      "provenance": [],
      "include_colab_link": true
    },
    "kernelspec": {
      "name": "python3",
      "display_name": "Python 3"
    }
  },
  "cells": [
    {
      "cell_type": "markdown",
      "metadata": {
        "id": "view-in-github",
        "colab_type": "text"
      },
      "source": [
        "<a href=\"https://colab.research.google.com/github/leaf7823/hosripo/blob/master/%E5%95%8F2_5_(%E6%96%87%E5%AD%97%E5%88%97).ipynb\" target=\"_parent\"><img src=\"https://colab.research.google.com/assets/colab-badge.svg\" alt=\"Open In Colab\"/></a>"
      ]
    },
    {
      "cell_type": "code",
      "metadata": {
        "id": "KKWDc0jeXt4J",
        "colab_type": "code",
        "outputId": "d03da6e1-966c-4e2c-a9c0-f891cdefe503",
        "colab": {
          "base_uri": "https://localhost:8080/",
          "height": 54
        }
      },
      "source": [
        "# str.join() を使って、0 から 99 までの数をスペース区切りで並べた文字列 \"0 1 2 3 4 ... 99\" を構成して下さい。\n",
        "\n",
        "b = []\n",
        "\n",
        "for i in range(100):\n",
        "    b.append(str(i))\n",
        "\n",
        "tbl = ' '.join(b)\n",
        "print (tbl)\n"
      ],
      "execution_count": 0,
      "outputs": [
        {
          "output_type": "stream",
          "text": [
            "0 1 2 3 4 5 6 7 8 9 10 11 12 13 14 15 16 17 18 19 20 21 22 23 24 25 26 27 28 29 30 31 32 33 34 35 36 37 38 39 40 41 42 43 44 45 46 47 48 49 50 51 52 53 54 55 56 57 58 59 60 61 62 63 64 65 66 67 68 69 70 71 72 73 74 75 76 77 78 79 80 81 82 83 84 85 86 87 88 89 90 91 92 93 94 95 96 97 98 99\n"
          ],
          "name": "stdout"
        }
      ]
    },
    {
      "cell_type": "code",
      "metadata": {
        "id": "dzzZpOoxlRY7",
        "colab_type": "code",
        "outputId": "7dff4945-1335-4801-c9b2-c7e7e5811baa",
        "colab": {
          "base_uri": "https://localhost:8080/",
          "height": 34
        }
      },
      "source": [
        "# str.format() を使って float の値 (1.0 / 7.0) の小数点以下9桁までを表示して下さい\n",
        "\n",
        "print('{:.9f}'.format(1.0 /7.0))\n",
        "\n"
      ],
      "execution_count": 0,
      "outputs": [
        {
          "output_type": "stream",
          "text": [
            "0.142857143\n"
          ],
          "name": "stdout"
        }
      ]
    }
  ]
}