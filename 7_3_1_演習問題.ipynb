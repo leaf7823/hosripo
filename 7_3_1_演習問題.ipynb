{
  "nbformat": 4,
  "nbformat_minor": 0,
  "metadata": {
    "colab": {
      "name": "7-3-1.演習問題",
      "version": "0.3.2",
      "provenance": [],
      "collapsed_sections": [],
      "include_colab_link": true
    },
    "kernelspec": {
      "name": "python3",
      "display_name": "Python 3"
    }
  },
  "cells": [
    {
      "cell_type": "markdown",
      "metadata": {
        "id": "view-in-github",
        "colab_type": "text"
      },
      "source": [
        "<a href=\"https://colab.research.google.com/github/leaf7823/hosripo/blob/master/7_3_1_%E6%BC%94%E7%BF%92%E5%95%8F%E9%A1%8C.ipynb\" target=\"_parent\"><img src=\"https://colab.research.google.com/assets/colab-badge.svg\" alt=\"Open In Colab\"/></a>"
      ]
    },
    {
      "cell_type": "code",
      "metadata": {
        "id": "ygew2J7APzoJ",
        "colab_type": "code",
        "outputId": "820704be-5b35-4536-e72e-e766712be81e",
        "colab": {
          "base_uri": "https://localhost:8080/",
          "height": 71
        }
      },
      "source": [
        "# 2つの整数を引数に受け取り、その2つの数の最大公約数を返すプログラムを書け\n",
        "\n",
        "import math\n",
        "\n",
        "int1 =int(input()) \n",
        "int2 =int(input()) \n",
        "\n",
        "print(math.gcd(int1, int2))\n"
      ],
      "execution_count": 0,
      "outputs": [
        {
          "output_type": "stream",
          "text": [
            "12\n",
            "24\n",
            "12\n"
          ],
          "name": "stdout"
        }
      ]
    },
    {
      "cell_type": "code",
      "metadata": {
        "id": "mSVTZSyVTx1I",
        "colab_type": "code",
        "outputId": "1319fd76-3bc6-4a0d-a58f-7009dd86b75b",
        "colab": {
          "base_uri": "https://localhost:8080/",
          "height": 71
        }
      },
      "source": [
        "# 2つの整数を引数に受け取り、その2つの数の最小公倍数を返すプログラムを書け\n",
        "import math\n",
        "\n",
        "int1 =int(input()) \n",
        "int2 =int(input()) \n",
        "\n",
        "print((int1 * int2) // math.gcd(int1, int2))"
      ],
      "execution_count": 0,
      "outputs": [
        {
          "output_type": "stream",
          "text": [
            "12\n",
            "24\n",
            "24\n"
          ],
          "name": "stdout"
        }
      ]
    },
    {
      "cell_type": "code",
      "metadata": {
        "id": "vN0Te2HqUSfG",
        "colab_type": "code",
        "outputId": "b270ac56-1197-41cc-9898-28de2b5c6171",
        "colab": {
          "base_uri": "https://localhost:8080/",
          "height": 53
        }
      },
      "source": [
        "# 解答例\n",
        "\n",
        "def gcd(a, b):\n",
        "    while b:\n",
        "        a, b = b, a % b\n",
        "    return a\n",
        "def lcm(a, b):\n",
        "    return a * b // gcd (a, b)\n",
        "  \n",
        "a = gcd(12,24)\n",
        "print(a)\n",
        "lcm(a,24)"
      ],
      "execution_count": 0,
      "outputs": [
        {
          "output_type": "stream",
          "text": [
            "12\n"
          ],
          "name": "stdout"
        },
        {
          "output_type": "execute_result",
          "data": {
            "text/plain": [
              "24"
            ]
          },
          "metadata": {
            "tags": []
          },
          "execution_count": 97
        }
      ]
    }
  ]
}