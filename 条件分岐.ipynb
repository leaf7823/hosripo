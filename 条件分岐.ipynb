{
  "nbformat": 4,
  "nbformat_minor": 0,
  "metadata": {
    "colab": {
      "name": "条件分岐",
      "version": "0.3.2",
      "provenance": [],
      "collapsed_sections": [],
      "include_colab_link": true
    },
    "kernelspec": {
      "name": "python3",
      "display_name": "Python 3"
    }
  },
  "cells": [
    {
      "cell_type": "markdown",
      "metadata": {
        "id": "view-in-github",
        "colab_type": "text"
      },
      "source": [
        "<a href=\"https://colab.research.google.com/github/leaf7823/hosripo/blob/master/%E6%9D%A1%E4%BB%B6%E5%88%86%E5%B2%90.ipynb\" target=\"_parent\"><img src=\"https://colab.research.google.com/assets/colab-badge.svg\" alt=\"Open In Colab\"/></a>"
      ]
    },
    {
      "cell_type": "code",
      "metadata": {
        "id": "kNAu_YPtTPQ_",
        "colab_type": "code",
        "outputId": "10cdc3c6-a08f-4588-c90c-78e8e51b108a",
        "colab": {
          "base_uri": "https://localhost:8080/",
          "height": 35
        }
      },
      "source": [
        "# 条件 temp>30 を満たすときに、return True, それ以外の場合に return False を実行\n",
        "def isHot(temp):\n",
        "   if temp > 30:\n",
        "     return True\n",
        "   else:\n",
        "     return False\n",
        "  \n",
        "isHot(35)"
      ],
      "execution_count": 0,
      "outputs": [
        {
          "output_type": "execute_result",
          "data": {
            "text/plain": [
              "True"
            ]
          },
          "metadata": {
            "tags": []
          },
          "execution_count": 6
        }
      ]
    },
    {
      "cell_type": "code",
      "metadata": {
        "id": "0qVdoTpOdmfj",
        "colab_type": "code",
        "outputId": "17e07fbe-11fa-4914-ffac-d9514b53cfe3",
        "colab": {
          "base_uri": "https://localhost:8080/",
          "height": 35
        }
      },
      "source": [
        "# codeがjpの場合はJapan、usの場合はU.S.A.、それ以外の場合はOtherを返します\n",
        "def country(code):\n",
        "   if code == 'jp':\n",
        "     return 'Japan'\n",
        "   elif code == 'us':\n",
        "     return 'U.S.A.'\n",
        "   else:\n",
        "     return 'Other'\n",
        "  \n",
        "country(\"jp\")"
      ],
      "execution_count": 0,
      "outputs": [
        {
          "output_type": "execute_result",
          "data": {
            "text/plain": [
              "'Japan'"
            ]
          },
          "metadata": {
            "tags": []
          },
          "execution_count": 13
        }
      ]
    },
    {
      "cell_type": "code",
      "metadata": {
        "id": "hDUtTG_6eJKB",
        "colab_type": "code",
        "outputId": "2a436446-6e00-4370-b0ed-fc2ef3b42973",
        "colab": {
          "base_uri": "https://localhost:8080/",
          "height": 35
        }
      },
      "source": [
        "# ifやelifの条件部には、真偽値(Boolean)以外も指定できます\n",
        "def isTrue(value):\n",
        "   if value  <= 10:\n",
        "      return True\n",
        "   elif value > 10:\n",
        "      return False\n",
        "  \n",
        "isTrue(11)"
      ],
      "execution_count": 0,
      "outputs": [
        {
          "output_type": "execute_result",
          "data": {
            "text/plain": [
              "False"
            ]
          },
          "metadata": {
            "tags": []
          },
          "execution_count": 25
        }
      ]
    }
  ]
}