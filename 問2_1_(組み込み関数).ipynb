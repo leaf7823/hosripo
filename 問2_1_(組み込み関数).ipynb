{
  "nbformat": 4,
  "nbformat_minor": 0,
  "metadata": {
    "colab": {
      "name": "問2.1 (組み込み関数)",
      "version": "0.3.2",
      "provenance": [],
      "include_colab_link": true
    },
    "kernelspec": {
      "name": "python3",
      "display_name": "Python 3"
    }
  },
  "cells": [
    {
      "cell_type": "markdown",
      "metadata": {
        "id": "view-in-github",
        "colab_type": "text"
      },
      "source": [
        "<a href=\"https://colab.research.google.com/github/leaf7823/hosripo/blob/master/%E5%95%8F2_1_(%E7%B5%84%E3%81%BF%E8%BE%BC%E3%81%BF%E9%96%A2%E6%95%B0).ipynb\" target=\"_parent\"><img src=\"https://colab.research.google.com/assets/colab-badge.svg\" alt=\"Open In Colab\"/></a>"
      ]
    },
    {
      "cell_type": "code",
      "metadata": {
        "id": "mz3SgUY5cN1g",
        "colab_type": "code",
        "outputId": "1c8800c6-6857-4738-fc47-c7d6a35a691a",
        "colab": {
          "base_uri": "https://localhost:8080/",
          "height": 34
        }
      },
      "source": [
        "#　演習問題2-1-1.\n",
        "\n",
        "a = [4, 8, 3, 4, 1]\n",
        "res = len(a)\n",
        "print(res)"
      ],
      "execution_count": 0,
      "outputs": [
        {
          "output_type": "stream",
          "text": [
            "5\n"
          ],
          "name": "stdout"
        }
      ]
    },
    {
      "cell_type": "code",
      "metadata": {
        "id": "VIpWuGewdieH",
        "colab_type": "code",
        "outputId": "bd487b39-f1c6-4a0e-8acf-47c1461e68de",
        "colab": {
          "base_uri": "https://localhost:8080/",
          "height": 34
        }
      },
      "source": [
        "#　演習問題2-1-2.\n",
        "\n",
        "a = [4, 8, 3, 4, 1]\n",
        "res = max(a)\n",
        "print(res)"
      ],
      "execution_count": 0,
      "outputs": [
        {
          "output_type": "stream",
          "text": [
            "8\n"
          ],
          "name": "stdout"
        }
      ]
    },
    {
      "cell_type": "code",
      "metadata": {
        "id": "5PmUqINydt_m",
        "colab_type": "code",
        "outputId": "7c9a90f8-fca2-4a2e-a13f-22b1d578f52c",
        "colab": {
          "base_uri": "https://localhost:8080/",
          "height": 34
        }
      },
      "source": [
        "#　演習問題2-1-3.\n",
        "\n",
        "a = [4, 8, 3, 4, 1]\n",
        "res = min(a)\n",
        "print(res)"
      ],
      "execution_count": 0,
      "outputs": [
        {
          "output_type": "stream",
          "text": [
            "1\n"
          ],
          "name": "stdout"
        }
      ]
    },
    {
      "cell_type": "code",
      "metadata": {
        "id": "hyKbxEppdzqI",
        "colab_type": "code",
        "outputId": "1d98f5e0-3c36-43b8-c467-203020f99534",
        "colab": {
          "base_uri": "https://localhost:8080/",
          "height": 34
        }
      },
      "source": [
        "#　演習問題2-1-3.\n",
        "\n",
        "a = [4, 8, 3, 4, 1]\n",
        "res = sum(a)\n",
        "print(res)"
      ],
      "execution_count": 0,
      "outputs": [
        {
          "output_type": "stream",
          "text": [
            "20\n"
          ],
          "name": "stdout"
        }
      ]
    },
    {
      "cell_type": "code",
      "metadata": {
        "id": "UIjukXOWfJZR",
        "colab_type": "code",
        "outputId": "188890ad-73da-4d9e-f5e7-94ee662c80c9",
        "colab": {
          "base_uri": "https://localhost:8080/",
          "height": 34
        }
      },
      "source": [
        "#　演習問題2-1-5.\n",
        "\n",
        "a = [4, 8, 3, 4, 1]\n",
        "res = a.sort()\n",
        "print(res)"
      ],
      "execution_count": 0,
      "outputs": [
        {
          "output_type": "stream",
          "text": [
            "None\n"
          ],
          "name": "stdout"
        }
      ]
    },
    {
      "cell_type": "code",
      "metadata": {
        "id": "GVTF1loAgaKT",
        "colab_type": "code",
        "outputId": "85694231-903d-4bca-8842-13307f2966b5",
        "colab": {
          "base_uri": "https://localhost:8080/",
          "height": 136
        }
      },
      "source": [
        "#　演習問題2-1-5.\n",
        "\n",
        "a = [4, 8, 3, 4, 1]\n",
        "res = a.sort()　　　\n",
        "print(format(res))"
      ],
      "execution_count": 0,
      "outputs": [
        {
          "output_type": "error",
          "ename": "SyntaxError",
          "evalue": "ignored",
          "traceback": [
            "\u001b[0;36m  File \u001b[0;32m\"<ipython-input-15-46cab6acb939>\"\u001b[0;36m, line \u001b[0;32m3\u001b[0m\n\u001b[0;31m    res = a.sort()\u001b[0m\n\u001b[0m                  　　^\u001b[0m\n\u001b[0;31mSyntaxError\u001b[0m\u001b[0;31m:\u001b[0m invalid character in identifier\n"
          ]
        }
      ]
    },
    {
      "cell_type": "code",
      "metadata": {
        "id": "lqSICtmif4zL",
        "colab_type": "code",
        "outputId": "1c26ef94-71f7-48fc-876b-9f8d95e4f671",
        "colab": {
          "base_uri": "https://localhost:8080/",
          "height": 34
        }
      },
      "source": [
        "#　演習問題2-1-5. 2times\n",
        "\n",
        "a = [4, 8, 3, 4, 1]\n",
        "a.sort()\n",
        "print(format(a))"
      ],
      "execution_count": 0,
      "outputs": [
        {
          "output_type": "stream",
          "text": [
            "[1, 3, 4, 4, 8]\n"
          ],
          "name": "stdout"
        }
      ]
    }
  ]
}