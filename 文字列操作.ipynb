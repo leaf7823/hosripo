{
  "nbformat": 4,
  "nbformat_minor": 0,
  "metadata": {
    "colab": {
      "name": "文字列操作",
      "version": "0.3.2",
      "provenance": [],
      "collapsed_sections": [],
      "include_colab_link": true
    },
    "kernelspec": {
      "name": "python3",
      "display_name": "Python 3"
    }
  },
  "cells": [
    {
      "cell_type": "markdown",
      "metadata": {
        "id": "view-in-github",
        "colab_type": "text"
      },
      "source": [
        "<a href=\"https://colab.research.google.com/github/leaf7823/hosripo/blob/master/%E6%96%87%E5%AD%97%E5%88%97%E6%93%8D%E4%BD%9C.ipynb\" target=\"_parent\"><img src=\"https://colab.research.google.com/assets/colab-badge.svg\" alt=\"Open In Colab\"/></a>"
      ]
    },
    {
      "cell_type": "code",
      "metadata": {
        "id": "DZ531QpU2pXF",
        "colab_type": "code",
        "outputId": "2fe8af8a-d1c3-44a7-a87c-15cfa5523f92",
        "colab": {
          "base_uri": "https://localhost:8080/",
          "height": 34
        }
      },
      "source": [
        "d=\"aaa\"\n",
        "n=4\n",
        "\n",
        "print(\"n =%d\"%n)\n"
      ],
      "execution_count": 0,
      "outputs": [
        {
          "output_type": "stream",
          "text": [
            "n =4\n"
          ],
          "name": "stdout"
        }
      ]
    },
    {
      "cell_type": "code",
      "metadata": {
        "id": "w6yD2ap58NQ_",
        "colab_type": "code",
        "outputId": "abe7a6bd-c696-4909-a687-b9aba360dd5f",
        "colab": {
          "base_uri": "https://localhost:8080/",
          "height": 34
        }
      },
      "source": [
        "a = 100\n",
        "# b = -200\n",
        "print(\"Hello! %d\" % a)"
      ],
      "execution_count": 0,
      "outputs": [
        {
          "output_type": "stream",
          "text": [
            "Hello! 100\n"
          ],
          "name": "stdout"
        }
      ]
    },
    {
      "cell_type": "code",
      "metadata": {
        "id": "UfvLmm3C-TPF",
        "colab_type": "code",
        "outputId": "fe2ffbb7-dd55-4f31-e9dd-aa6021b25529",
        "colab": {
          "base_uri": "https://localhost:8080/",
          "height": 34
        }
      },
      "source": [
        "# タプル\n",
        "a=100\n",
        "b=200\n",
        "print(\"Hello! %d %d\" % (a, b))"
      ],
      "execution_count": 0,
      "outputs": [
        {
          "output_type": "stream",
          "text": [
            "Hello! 100 200\n"
          ],
          "name": "stdout"
        }
      ]
    }
  ]
}