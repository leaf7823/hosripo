{
  "nbformat": 4,
  "nbformat_minor": 0,
  "metadata": {
    "colab": {
      "name": "3.2.1.関数",
      "version": "0.3.2",
      "provenance": [],
      "collapsed_sections": [],
      "include_colab_link": true
    },
    "kernelspec": {
      "name": "python3",
      "display_name": "Python 3"
    }
  },
  "cells": [
    {
      "cell_type": "markdown",
      "metadata": {
        "id": "view-in-github",
        "colab_type": "text"
      },
      "source": [
        "<a href=\"https://colab.research.google.com/github/leaf7823/hosripo/blob/master/3_2_1_%E9%96%A2%E6%95%B0.ipynb\" target=\"_parent\"><img src=\"https://colab.research.google.com/assets/colab-badge.svg\" alt=\"Open In Colab\"/></a>"
      ]
    },
    {
      "cell_type": "code",
      "metadata": {
        "id": "fimamQsjiohH",
        "colab_type": "code",
        "colab": {}
      },
      "source": [
        "# 受け取った値を 2 倍して表示する関数\n",
        "#\n",
        "def duble(cnt):\n",
        "    cnt = cnt*2\n",
        "    print(cnt)\n"
      ],
      "execution_count": 0,
      "outputs": []
    },
    {
      "cell_type": "code",
      "metadata": {
        "id": "Or3SdibfjZ8g",
        "colab_type": "code",
        "outputId": "b7e858fe-d201-4f3b-888e-3af6a0dbb605",
        "colab": {
          "base_uri": "https://localhost:8080/",
          "height": 35
        }
      },
      "source": [
        "duble(2)"
      ],
      "execution_count": 0,
      "outputs": [
        {
          "output_type": "stream",
          "text": [
            "4\n"
          ],
          "name": "stdout"
        }
      ]
    },
    {
      "cell_type": "code",
      "metadata": {
        "id": "xpEicCZHjo7a",
        "colab_type": "code",
        "colab": {}
      },
      "source": [
        "\n",
        "# 関数 double() の定義 for sample\n",
        "def doubled(x):\n",
        "    print(2 * x)"
      ],
      "execution_count": 0,
      "outputs": []
    },
    {
      "cell_type": "code",
      "metadata": {
        "id": "nN0OD4J6jtC9",
        "colab_type": "code",
        "outputId": "b03b5322-4719-44a9-cb70-6f32fe2888b9",
        "colab": {
          "base_uri": "https://localhost:8080/",
          "height": 35
        }
      },
      "source": [
        "# 関数の実行 for sample\n",
        "doubled(2)"
      ],
      "execution_count": 0,
      "outputs": [
        {
          "output_type": "stream",
          "text": [
            "4\n"
          ],
          "name": "stdout"
        }
      ]
    },
    {
      "cell_type": "code",
      "metadata": {
        "id": "NM00nbV5kK6b",
        "colab_type": "code",
        "colab": {}
      },
      "source": [
        "# 引数を 2 つとり、足し算を行う関数      # 関数の定義 for sample\n",
        "\n",
        "def add(a,b):                            # def add(a, b):\n",
        "    print(a + b)                         #     print(a + b)\n"
      ],
      "execution_count": 0,
      "outputs": []
    },
    {
      "cell_type": "code",
      "metadata": {
        "id": "K6JQ58AykXno",
        "colab_type": "code",
        "outputId": "85ca3411-37a0-42ae-c71c-cffdbefb696e",
        "colab": {
          "base_uri": "https://localhost:8080/",
          "height": 35
        }
      },
      "source": [
        "add(1,1)"
      ],
      "execution_count": 0,
      "outputs": [
        {
          "output_type": "stream",
          "text": [
            "2\n"
          ],
          "name": "stdout"
        }
      ]
    },
    {
      "cell_type": "code",
      "metadata": {
        "id": "jEf4KxK0lOEE",
        "colab_type": "code",
        "colab": {}
      },
      "source": [
        "# 引数のない関数の定義\n",
        "def hello():\n",
        "    print('Chainerチュートリアルにようこそ')"
      ],
      "execution_count": 0,
      "outputs": []
    },
    {
      "cell_type": "code",
      "metadata": {
        "id": "5cW_K2YflQFs",
        "colab_type": "code",
        "outputId": "d8487c95-7268-47ca-91b8-4b6b1ca363f6",
        "colab": {
          "base_uri": "https://localhost:8080/",
          "height": 35
        }
      },
      "source": [
        "# 引数のない関数の実行\n",
        "hello()"
      ],
      "execution_count": 0,
      "outputs": [
        {
          "output_type": "stream",
          "text": [
            "Chainerチュートリアルにようこそ\n"
          ],
          "name": "stdout"
        }
      ]
    },
    {
      "cell_type": "code",
      "metadata": {
        "id": "q40wTklKlXA2",
        "colab_type": "code",
        "colab": {}
      },
      "source": [
        "# 引数に何も与えずに呼び出す\n",
        "\n",
        "def hello(message='Chainerチュートリアルにようこそ'):\n",
        "    print(message)"
      ],
      "execution_count": 0,
      "outputs": []
    },
    {
      "cell_type": "code",
      "metadata": {
        "id": "sBCTJj3kldio",
        "colab_type": "code",
        "outputId": "ccfa1b9d-d9b7-45d5-b4b3-d6f2145c2bf3",
        "colab": {
          "base_uri": "https://localhost:8080/",
          "height": 35
        }
      },
      "source": [
        "hello()"
      ],
      "execution_count": 0,
      "outputs": [
        {
          "output_type": "stream",
          "text": [
            "Chainerチュートリアルにようこそ\n"
          ],
          "name": "stdout"
        }
      ]
    },
    {
      "cell_type": "code",
      "metadata": {
        "id": "qQBxQN6-oHkg",
        "colab_type": "code",
        "colab": {}
      },
      "source": [
        "# 返り値のある関数の定義\n",
        "def add(a, b):\n",
        "    return a + b"
      ],
      "execution_count": 0,
      "outputs": []
    },
    {
      "cell_type": "code",
      "metadata": {
        "id": "jvBL7eP2oOG1",
        "colab_type": "code",
        "outputId": "077d4045-219c-4f0a-9fcd-3c8456c62867",
        "colab": {
          "base_uri": "https://localhost:8080/",
          "height": 35
        }
      },
      "source": [
        "result = add(1, 3)\n",
        "\n",
        "result"
      ],
      "execution_count": 0,
      "outputs": [
        {
          "output_type": "execute_result",
          "data": {
            "text/plain": [
              "4"
            ]
          },
          "metadata": {
            "tags": []
          },
          "execution_count": 4
        }
      ]
    },
    {
      "cell_type": "code",
      "metadata": {
        "id": "dWLGN5GXoRGJ",
        "colab_type": "code",
        "outputId": "8be871a2-1c0d-4450-b920-549b689bb73c",
        "colab": {
          "base_uri": "https://localhost:8080/",
          "height": 35
        }
      },
      "source": [
        "result = add(1, 3)\n",
        "\n",
        "result\n",
        "\n",
        "result_double = result * 2\n",
        "\n",
        "result_double"
      ],
      "execution_count": 0,
      "outputs": [
        {
          "output_type": "execute_result",
          "data": {
            "text/plain": [
              "8"
            ]
          },
          "metadata": {
            "tags": []
          },
          "execution_count": 5
        }
      ]
    },
    {
      "cell_type": "code",
      "metadata": {
        "id": "6bQn3VMuq24U",
        "colab_type": "code",
        "outputId": "b3f76c2b-15e6-461e-bb36-d2acd5d82ff1",
        "colab": {
          "base_uri": "https://localhost:8080/",
          "height": 35
        }
      },
      "source": [
        "# 2 と 3 を足した結果と、1 と 3 を足した結果を、掛け合わせる」という計算が、以下のように書けます。\n",
        "\n",
        "add(2, 3) * add(1, 3)"
      ],
      "execution_count": 0,
      "outputs": [
        {
          "output_type": "execute_result",
          "data": {
            "text/plain": [
              "20"
            ]
          },
          "metadata": {
            "tags": []
          },
          "execution_count": 5
        }
      ]
    },
    {
      "cell_type": "code",
      "metadata": {
        "id": "ghWy0cW_saak",
        "colab_type": "code",
        "outputId": "02e5b55c-8517-4155-8a85-12c45cdcd6ec",
        "colab": {
          "base_uri": "https://localhost:8080/",
          "height": 53
        }
      },
      "source": [
        " a = 1\n",
        "\n",
        "# 関数の内部で a に 2 を代入\n",
        "def change(a):\n",
        "    a = 2 + a\n",
        "    print(a)\n",
        "change(5)\n",
        "\n",
        "a  "
      ],
      "execution_count": 0,
      "outputs": [
        {
          "output_type": "stream",
          "text": [
            "7\n"
          ],
          "name": "stdout"
        },
        {
          "output_type": "execute_result",
          "data": {
            "text/plain": [
              "1"
            ]
          },
          "metadata": {
            "tags": []
          },
          "execution_count": 32
        }
      ]
    },
    {
      "cell_type": "code",
      "metadata": {
        "id": "houKvW0xtVRY",
        "colab_type": "code",
        "outputId": "affa218f-809e-4b2c-a1b8-87c0ec88e1b6",
        "colab": {
          "base_uri": "https://localhost:8080/",
          "height": 53
        }
      },
      "source": [
        "a = 2\n",
        "\n",
        "def change():\n",
        "    print('From inside:', a)\n",
        "\n",
        "change()\n",
        "\n",
        "print('From outside:', a)"
      ],
      "execution_count": 0,
      "outputs": [
        {
          "output_type": "stream",
          "text": [
            "From inside: 2\n",
            "From outside: 2\n"
          ],
          "name": "stdout"
        }
      ]
    },
    {
      "cell_type": "code",
      "metadata": {
        "id": "CjsSADR9x6jV",
        "colab_type": "code",
        "outputId": "5bce4248-603e-41b5-ed44-b125c6a38455",
        "colab": {
          "base_uri": "https://localhost:8080/",
          "height": 35
        }
      },
      "source": [
        "# global variable\n",
        "\n",
        "a = 1\n",
        "\n",
        "def change():\n",
        "    global a  # a をグローバル変数である宣言\n",
        "#    a = 2       # グローバル変数への代入 for sample\n",
        "    a +=2       # グローバル変数への代入\n",
        "\n",
        "# 関数の実行\n",
        "change()\n",
        "\n",
        "# 結果の確認 <- a の値が上書きされている\n",
        "a\n"
      ],
      "execution_count": 0,
      "outputs": [
        {
          "output_type": "execute_result",
          "data": {
            "text/plain": [
              "3"
            ]
          },
          "metadata": {
            "tags": []
          },
          "execution_count": 35
        }
      ]
    }
  ]
}