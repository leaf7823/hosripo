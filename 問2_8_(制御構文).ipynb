{
  "nbformat": 4,
  "nbformat_minor": 0,
  "metadata": {
    "colab": {
      "name": "問2.8 (制御構文)",
      "version": "0.3.2",
      "provenance": [],
      "include_colab_link": true
    },
    "kernelspec": {
      "name": "python3",
      "display_name": "Python 3"
    }
  },
  "cells": [
    {
      "cell_type": "markdown",
      "metadata": {
        "id": "view-in-github",
        "colab_type": "text"
      },
      "source": [
        "<a href=\"https://colab.research.google.com/github/leaf7823/hosripo/blob/master/%E5%95%8F2_8_(%E5%88%B6%E5%BE%A1%E6%A7%8B%E6%96%87).ipynb\" target=\"_parent\"><img src=\"https://colab.research.google.com/assets/colab-badge.svg\" alt=\"Open In Colab\"/></a>"
      ]
    },
    {
      "cell_type": "code",
      "metadata": {
        "id": "ceG93voOkWo1",
        "colab_type": "code",
        "outputId": "8d872d0f-ef25-4a76-a683-b4119a52f17e",
        "colab": {
          "base_uri": "https://localhost:8080/",
          "height": 35
        }
      },
      "source": [
        "import numpy as np\n",
        "\n",
        " \n",
        "\n",
        "def seachPrimeNum(N):\n",
        "\n",
        "    max = int(np.sqrt(N))\n",
        "\n",
        "    seachList = [i for i in range(2,N+1)]\n",
        "\n",
        "    primeNum = []\n",
        "\n",
        "    while seachList[0] <= max:\n",
        "\n",
        "        primeNum.append(seachList[0])\n",
        "\n",
        "        tmp = seachList[0]\n",
        "\n",
        "        seachList = [i for i in seachList if i % tmp != 0]\n",
        "\n",
        "    primeNum.extend(seachList)\n",
        "\n",
        "    return primeNum\n",
        "\n",
        " \n",
        "\n",
        "print(seachPrimeNum(100))"
      ],
      "execution_count": 0,
      "outputs": [
        {
          "output_type": "stream",
          "text": [
            "[2, 3, 5, 7, 11, 13, 17, 19, 23, 29, 31, 37, 41, 43, 47, 53, 59, 61, 67, 71, 73, 79, 83, 89, 97]\n"
          ],
          "name": "stdout"
        }
      ]
    }
  ]
}