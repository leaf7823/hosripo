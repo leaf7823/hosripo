{
  "nbformat": 4,
  "nbformat_minor": 0,
  "metadata": {
    "colab": {
      "name": "NumPy 入門",
      "version": "0.3.2",
      "provenance": [],
      "collapsed_sections": [],
      "include_colab_link": true
    },
    "kernelspec": {
      "name": "python3",
      "display_name": "Python 3"
    }
  },
  "cells": [
    {
      "cell_type": "markdown",
      "metadata": {
        "id": "view-in-github",
        "colab_type": "text"
      },
      "source": [
        "<a href=\"https://colab.research.google.com/github/leaf7823/hosripo/blob/master/NumPy_%E5%85%A5%E9%96%80.ipynb\" target=\"_parent\"><img src=\"https://colab.research.google.com/assets/colab-badge.svg\" alt=\"Open In Colab\"/></a>"
      ]
    },
    {
      "cell_type": "code",
      "metadata": {
        "id": "wyQu16drlMmp",
        "colab_type": "code",
        "colab": {}
      },
      "source": [
        "import numpy as np"
      ],
      "execution_count": 0,
      "outputs": []
    },
    {
      "cell_type": "code",
      "metadata": {
        "id": "T3ZaOBKFJr9_",
        "colab_type": "code",
        "outputId": "07161f0d-999b-4c05-ba2c-ad79df69ac7b",
        "colab": {
          "base_uri": "https://localhost:8080/",
          "height": 34
        }
      },
      "source": [
        "# [2]:ベクトルの定義\n",
        "a = np.array([1, 2, 3])\n",
        "\n",
        "a"
      ],
      "execution_count": 0,
      "outputs": [
        {
          "output_type": "execute_result",
          "data": {
            "text/plain": [
              "array([1, 2, 3])"
            ]
          },
          "metadata": {
            "tags": []
          },
          "execution_count": 2
        }
      ]
    },
    {
      "cell_type": "code",
      "metadata": {
        "id": "SxeDZzG-JsNn",
        "colab_type": "code",
        "outputId": "3d4a0346-a174-4f32-e517-d9a4e0220402",
        "colab": {
          "base_uri": "https://localhost:8080/",
          "height": 34
        }
      },
      "source": [
        "# [3]:\n",
        "\n",
        "a.shape"
      ],
      "execution_count": 0,
      "outputs": [
        {
          "output_type": "execute_result",
          "data": {
            "text/plain": [
              "(3,)"
            ]
          },
          "metadata": {
            "tags": []
          },
          "execution_count": 3
        }
      ]
    },
    {
      "cell_type": "code",
      "metadata": {
        "id": "V-fTExI0JsYe",
        "colab_type": "code",
        "outputId": "d677e625-9f15-4b72-97be-18cf8d4b90ee",
        "colab": {
          "base_uri": "https://localhost:8080/",
          "height": 34
        }
      },
      "source": [
        "# [4]:\n",
        "a.ndim"
      ],
      "execution_count": 0,
      "outputs": [
        {
          "output_type": "execute_result",
          "data": {
            "text/plain": [
              "1"
            ]
          },
          "metadata": {
            "tags": []
          },
          "execution_count": 4
        }
      ]
    },
    {
      "cell_type": "code",
      "metadata": {
        "id": "OhqiTpYyJshs",
        "colab_type": "code",
        "outputId": "c8b6d315-3e52-4b66-9599-9429afc3ce3b",
        "colab": {
          "base_uri": "https://localhost:8080/",
          "height": 70
        }
      },
      "source": [
        "# [5]:\n",
        "# 行列の定義\n",
        "b = np.array(\n",
        "    [[1, 2, 3],\n",
        "     [4, 5, 6],\n",
        "     [7, 8, 9]]\n",
        ")\n",
        "\n",
        "b"
      ],
      "execution_count": 0,
      "outputs": [
        {
          "output_type": "execute_result",
          "data": {
            "text/plain": [
              "array([[1, 2, 3],\n",
              "       [4, 5, 6],\n",
              "       [7, 8, 9]])"
            ]
          },
          "metadata": {
            "tags": []
          },
          "execution_count": 5
        }
      ]
    },
    {
      "cell_type": "code",
      "metadata": {
        "id": "lpzVUInyJspy",
        "colab_type": "code",
        "outputId": "acf94be2-9734-4587-a4a7-385ba8f15518",
        "colab": {
          "base_uri": "https://localhost:8080/",
          "height": 52
        }
      },
      "source": [
        "# [6]:\n",
        "print('Shape:', b.shape)\n",
        "print('Rank:', b.ndim)"
      ],
      "execution_count": 0,
      "outputs": [
        {
          "output_type": "stream",
          "text": [
            "Shape: (3, 3)\n",
            "Rank: 2\n"
          ],
          "name": "stdout"
        }
      ]
    },
    {
      "cell_type": "code",
      "metadata": {
        "id": "k7vKqo9JJsvp",
        "colab_type": "code",
        "outputId": "3d789cb5-84c8-4760-f155-f27507cce99d",
        "colab": {
          "base_uri": "https://localhost:8080/",
          "height": 34
        }
      },
      "source": [
        "# [7]:\n",
        "b.size"
      ],
      "execution_count": 0,
      "outputs": [
        {
          "output_type": "execute_result",
          "data": {
            "text/plain": [
              "9"
            ]
          },
          "metadata": {
            "tags": []
          },
          "execution_count": 7
        }
      ]
    },
    {
      "cell_type": "code",
      "metadata": {
        "id": "RaV7UrFYJs14",
        "colab_type": "code",
        "outputId": "7da86e74-8942-499d-a683-cb8878577781",
        "colab": {
          "base_uri": "https://localhost:8080/",
          "height": 70
        }
      },
      "source": [
        "# [8]:\n",
        "# 形を指定して、要素が全て 0 で埋められた ndarray を作る\n",
        "a = np.zeros((3, 3))\n",
        "\n",
        "a"
      ],
      "execution_count": 0,
      "outputs": [
        {
          "output_type": "execute_result",
          "data": {
            "text/plain": [
              "array([[0., 0., 0.],\n",
              "       [0., 0., 0.],\n",
              "       [0., 0., 0.]])"
            ]
          },
          "metadata": {
            "tags": []
          },
          "execution_count": 8
        }
      ]
    },
    {
      "cell_type": "code",
      "metadata": {
        "id": "L-Oec5BNJs8C",
        "colab_type": "code",
        "outputId": "b4afa22e-be02-4dd2-e3b8-c31107f0f2f9",
        "colab": {
          "base_uri": "https://localhost:8080/",
          "height": 52
        }
      },
      "source": [
        "# [9]:\n",
        "# 形を指定して、要素が全て 1 で埋められた ndarray を作る\n",
        "b = np.ones((2, 3))\n",
        "\n",
        "b"
      ],
      "execution_count": 0,
      "outputs": [
        {
          "output_type": "execute_result",
          "data": {
            "text/plain": [
              "array([[1., 1., 1.],\n",
              "       [1., 1., 1.]])"
            ]
          },
          "metadata": {
            "tags": []
          },
          "execution_count": 10
        }
      ]
    },
    {
      "cell_type": "code",
      "metadata": {
        "id": "NXK60YRYJtAB",
        "colab_type": "code",
        "outputId": "92ca959a-838d-402d-ef4e-0ac8ab142561",
        "colab": {
          "base_uri": "https://localhost:8080/",
          "height": 70
        }
      },
      "source": [
        "# [10]:\n",
        "# 形と値を指定して、要素が指定した値で埋められた ndarray を作る\n",
        "c = np.full((3, 2), 9)\n",
        "\n",
        "c"
      ],
      "execution_count": 0,
      "outputs": [
        {
          "output_type": "execute_result",
          "data": {
            "text/plain": [
              "array([[9, 9],\n",
              "       [9, 9],\n",
              "       [9, 9]])"
            ]
          },
          "metadata": {
            "tags": []
          },
          "execution_count": 13
        }
      ]
    },
    {
      "cell_type": "code",
      "metadata": {
        "id": "uAmGI55xJtFY",
        "colab_type": "code",
        "outputId": "575996dc-beb8-4f5a-ece9-da66d43e2f35",
        "colab": {
          "base_uri": "https://localhost:8080/",
          "height": 105
        }
      },
      "source": [
        "# [11]:\n",
        "# 指定された大きさの単位行列を表す ndarray を作る\n",
        "d = np.eye(5)\n",
        "\n",
        "d"
      ],
      "execution_count": 0,
      "outputs": [
        {
          "output_type": "execute_result",
          "data": {
            "text/plain": [
              "array([[1., 0., 0., 0., 0.],\n",
              "       [0., 1., 0., 0., 0.],\n",
              "       [0., 0., 1., 0., 0.],\n",
              "       [0., 0., 0., 1., 0.],\n",
              "       [0., 0., 0., 0., 1.]])"
            ]
          },
          "metadata": {
            "tags": []
          },
          "execution_count": 14
        }
      ]
    },
    {
      "cell_type": "code",
      "metadata": {
        "id": "ZCa5StyzJtJ_",
        "colab_type": "code",
        "outputId": "55680e0b-3bd5-47f3-c447-c234d198656d",
        "colab": {
          "base_uri": "https://localhost:8080/",
          "height": 140
        }
      },
      "source": [
        "# [12]:\n",
        "# 形を指定して、 0 ~ 1 の間の乱数で要素を埋めた ndarray を作る\n",
        "e = np.random.random((4, 5))\n",
        "\n",
        "print(e)\n",
        "print('Shape:', e.shape)\n",
        "print('Rank:', e.ndim)\n",
        "print('size:', e.size)"
      ],
      "execution_count": 0,
      "outputs": [
        {
          "output_type": "stream",
          "text": [
            "[[0.31684291 0.84613127 0.35070521 0.39080165 0.14926569]\n",
            " [0.19442674 0.70356368 0.39576276 0.2666541  0.46689657]\n",
            " [0.56209184 0.09267139 0.3854256  0.44535595 0.88455684]\n",
            " [0.32382415 0.98893484 0.69004092 0.96168671 0.54608931]]\n",
            "Shape: (4, 5)\n",
            "Rank: 2\n",
            "size: 20\n"
          ],
          "name": "stdout"
        }
      ]
    },
    {
      "cell_type": "code",
      "metadata": {
        "id": "lyVqzzEJJtPA",
        "colab_type": "code",
        "outputId": "b9aa0075-dd87-481b-8cd7-dbb408666192",
        "colab": {
          "base_uri": "https://localhost:8080/",
          "height": 34
        }
      },
      "source": [
        "# [13]:\n",
        "# 3 から始まり 10 になるまで 1 ずつ増加する数列を作る（10 は含まない）\n",
        "f = np.arange(3, 10, 1)\n",
        "\n",
        "f"
      ],
      "execution_count": 0,
      "outputs": [
        {
          "output_type": "execute_result",
          "data": {
            "text/plain": [
              "array([3, 4, 5, 6, 7, 8, 9])"
            ]
          },
          "metadata": {
            "tags": []
          },
          "execution_count": 21
        }
      ]
    },
    {
      "cell_type": "code",
      "metadata": {
        "id": "FBnngx1bJtUi",
        "colab_type": "code",
        "outputId": "41e46741-cc18-4be2-985e-f0b5f5551719",
        "colab": {
          "base_uri": "https://localhost:8080/",
          "height": 34
        }
      },
      "source": [
        "# [14]:\n",
        "val = e[0, 1]\n",
        "\n",
        "val"
      ],
      "execution_count": 0,
      "outputs": [
        {
          "output_type": "execute_result",
          "data": {
            "text/plain": [
              "0.5576839292186136"
            ]
          },
          "metadata": {
            "tags": []
          },
          "execution_count": 22
        }
      ]
    },
    {
      "cell_type": "code",
      "metadata": {
        "id": "ckKp_PR-JtY2",
        "colab_type": "code",
        "outputId": "5b3c8528-f2c5-4919-eb7e-f2b406eecbc3",
        "colab": {
          "base_uri": "https://localhost:8080/",
          "height": 52
        }
      },
      "source": [
        "# [15]:\n",
        "# 4 x 5 行列 e の真ん中の 2 x 3 = 6 個の値を取り出す\n",
        "center = e[0:2,1:2]\n",
        "\n",
        "center"
      ],
      "execution_count": 0,
      "outputs": [
        {
          "output_type": "execute_result",
          "data": {
            "text/plain": [
              "array([[0.84613127],\n",
              "       [0.70356368]])"
            ]
          },
          "metadata": {
            "tags": []
          },
          "execution_count": 14
        }
      ]
    },
    {
      "cell_type": "code",
      "metadata": {
        "id": "xfiWUZBVJtdL",
        "colab_type": "code",
        "outputId": "62874b69-7b68-4822-9589-e079d2d02da2",
        "colab": {
          "base_uri": "https://localhost:8080/",
          "height": 52
        }
      },
      "source": [
        "# 16]:\n",
        "print('Shape of e:', e.shape)\n",
        "print('Shape of center:', center.shape)"
      ],
      "execution_count": 0,
      "outputs": [
        {
          "output_type": "stream",
          "text": [
            "Shape of e: (4, 5)\n",
            "Shape of center: (2, 3)\n"
          ],
          "name": "stdout"
        }
      ]
    },
    {
      "cell_type": "code",
      "metadata": {
        "id": "FPBR0Cr-Jtib",
        "colab_type": "code",
        "colab": {}
      },
      "source": [
        "# [17]:"
      ],
      "execution_count": 0,
      "outputs": []
    },
    {
      "cell_type": "code",
      "metadata": {
        "id": "ZVFwK7kYJtmn",
        "colab_type": "code",
        "colab": {}
      },
      "source": [
        "# [18]:"
      ],
      "execution_count": 0,
      "outputs": []
    },
    {
      "cell_type": "code",
      "metadata": {
        "id": "A-sgHf27Jtra",
        "colab_type": "code",
        "colab": {}
      },
      "source": [
        "# [19]:"
      ],
      "execution_count": 0,
      "outputs": []
    },
    {
      "cell_type": "code",
      "metadata": {
        "id": "d6vYphzBJtwW",
        "colab_type": "code",
        "colab": {}
      },
      "source": [
        "# [20]:"
      ],
      "execution_count": 0,
      "outputs": []
    },
    {
      "cell_type": "code",
      "metadata": {
        "id": "q77QSArsJt2H",
        "colab_type": "code",
        "colab": {}
      },
      "source": [
        "# [21]:"
      ],
      "execution_count": 0,
      "outputs": []
    },
    {
      "cell_type": "code",
      "metadata": {
        "id": "o821UOl2Ka2p",
        "colab_type": "code",
        "colab": {}
      },
      "source": [
        "# [22]:"
      ],
      "execution_count": 0,
      "outputs": []
    },
    {
      "cell_type": "code",
      "metadata": {
        "id": "iMGifaR7Ka7b",
        "colab_type": "code",
        "colab": {}
      },
      "source": [
        "# [23]:"
      ],
      "execution_count": 0,
      "outputs": []
    },
    {
      "cell_type": "code",
      "metadata": {
        "id": "tdjWnLgBKbA-",
        "colab_type": "code",
        "colab": {}
      },
      "source": [
        "# [24]:"
      ],
      "execution_count": 0,
      "outputs": []
    },
    {
      "cell_type": "code",
      "metadata": {
        "id": "hwBDT4nwKbE2",
        "colab_type": "code",
        "colab": {}
      },
      "source": [
        "# [25]:"
      ],
      "execution_count": 0,
      "outputs": []
    },
    {
      "cell_type": "code",
      "metadata": {
        "id": "K0qNzWiiKbI3",
        "colab_type": "code",
        "colab": {}
      },
      "source": [
        "# [26]:"
      ],
      "execution_count": 0,
      "outputs": []
    },
    {
      "cell_type": "code",
      "metadata": {
        "id": "xbGHCGtlKbNA",
        "colab_type": "code",
        "colab": {}
      },
      "source": [
        "# [27]:"
      ],
      "execution_count": 0,
      "outputs": []
    },
    {
      "cell_type": "code",
      "metadata": {
        "id": "EQZy6urGKbQO",
        "colab_type": "code",
        "colab": {}
      },
      "source": [
        "# [28]:"
      ],
      "execution_count": 0,
      "outputs": []
    },
    {
      "cell_type": "code",
      "metadata": {
        "id": "e4uqvhi2KbTe",
        "colab_type": "code",
        "colab": {}
      },
      "source": [
        "# [29]:"
      ],
      "execution_count": 0,
      "outputs": []
    },
    {
      "cell_type": "code",
      "metadata": {
        "id": "xW4JrQ_IKbXg",
        "colab_type": "code",
        "colab": {}
      },
      "source": [
        "# [30]:"
      ],
      "execution_count": 0,
      "outputs": []
    },
    {
      "cell_type": "code",
      "metadata": {
        "id": "Ll5Fq5dhKbbO",
        "colab_type": "code",
        "colab": {}
      },
      "source": [
        "# [31]:"
      ],
      "execution_count": 0,
      "outputs": []
    },
    {
      "cell_type": "code",
      "metadata": {
        "id": "ToAyq2NJKbfQ",
        "colab_type": "code",
        "colab": {}
      },
      "source": [
        "# [32]:"
      ],
      "execution_count": 0,
      "outputs": []
    },
    {
      "cell_type": "code",
      "metadata": {
        "id": "XVT9QpQ1KbjV",
        "colab_type": "code",
        "colab": {}
      },
      "source": [
        "# [33]:"
      ],
      "execution_count": 0,
      "outputs": []
    },
    {
      "cell_type": "code",
      "metadata": {
        "id": "CF76cMXnKboK",
        "colab_type": "code",
        "colab": {}
      },
      "source": [
        "# [34]:"
      ],
      "execution_count": 0,
      "outputs": []
    },
    {
      "cell_type": "code",
      "metadata": {
        "id": "YWYmpCbsKbsa",
        "colab_type": "code",
        "colab": {}
      },
      "source": [
        "# [35]:"
      ],
      "execution_count": 0,
      "outputs": []
    },
    {
      "cell_type": "code",
      "metadata": {
        "id": "hhvvGo-1Kbv_",
        "colab_type": "code",
        "colab": {}
      },
      "source": [
        "# [36]:"
      ],
      "execution_count": 0,
      "outputs": []
    },
    {
      "cell_type": "code",
      "metadata": {
        "id": "KPi0GOQRKbzy",
        "colab_type": "code",
        "colab": {}
      },
      "source": [
        "# [37]:"
      ],
      "execution_count": 0,
      "outputs": []
    },
    {
      "cell_type": "code",
      "metadata": {
        "id": "rHRcm8MzKb3o",
        "colab_type": "code",
        "colab": {}
      },
      "source": [
        "# [38]:"
      ],
      "execution_count": 0,
      "outputs": []
    },
    {
      "cell_type": "code",
      "metadata": {
        "id": "OYnIMf5GKb7e",
        "colab_type": "code",
        "colab": {}
      },
      "source": [
        "# [39]:"
      ],
      "execution_count": 0,
      "outputs": []
    },
    {
      "cell_type": "code",
      "metadata": {
        "id": "-XyDWVW9Kb_s",
        "colab_type": "code",
        "colab": {}
      },
      "source": [
        "# [40]:"
      ],
      "execution_count": 0,
      "outputs": []
    },
    {
      "cell_type": "code",
      "metadata": {
        "id": "EC9m4voXKcDA",
        "colab_type": "code",
        "colab": {}
      },
      "source": [
        "# [41]:"
      ],
      "execution_count": 0,
      "outputs": []
    },
    {
      "cell_type": "code",
      "metadata": {
        "id": "1sgc3jiRKcGs",
        "colab_type": "code",
        "colab": {}
      },
      "source": [
        "# [42]:"
      ],
      "execution_count": 0,
      "outputs": []
    },
    {
      "cell_type": "code",
      "metadata": {
        "id": "uD1CHBBPKcKt",
        "colab_type": "code",
        "colab": {}
      },
      "source": [
        "# [43]:"
      ],
      "execution_count": 0,
      "outputs": []
    },
    {
      "cell_type": "code",
      "metadata": {
        "id": "dwlJvv-uKcON",
        "colab_type": "code",
        "colab": {}
      },
      "source": [
        "# [44]:"
      ],
      "execution_count": 0,
      "outputs": []
    },
    {
      "cell_type": "code",
      "metadata": {
        "id": "qi7QnwT2KcRj",
        "colab_type": "code",
        "colab": {}
      },
      "source": [
        "# [45]:"
      ],
      "execution_count": 0,
      "outputs": []
    },
    {
      "cell_type": "code",
      "metadata": {
        "id": "GBmZstayKcVz",
        "colab_type": "code",
        "colab": {}
      },
      "source": [
        "# [46]:"
      ],
      "execution_count": 0,
      "outputs": []
    },
    {
      "cell_type": "code",
      "metadata": {
        "id": "QMKT03vfKcZ7",
        "colab_type": "code",
        "colab": {}
      },
      "source": [
        "# [47]:"
      ],
      "execution_count": 0,
      "outputs": []
    },
    {
      "cell_type": "code",
      "metadata": {
        "id": "TKwMIHu6Kcd5",
        "colab_type": "code",
        "colab": {}
      },
      "source": [
        "# [48]:"
      ],
      "execution_count": 0,
      "outputs": []
    },
    {
      "cell_type": "code",
      "metadata": {
        "id": "xpiDoU4_Kchn",
        "colab_type": "code",
        "colab": {}
      },
      "source": [
        "# [49]:"
      ],
      "execution_count": 0,
      "outputs": []
    },
    {
      "cell_type": "code",
      "metadata": {
        "id": "35y13X0WKcmI",
        "colab_type": "code",
        "colab": {}
      },
      "source": [
        "# [50]:"
      ],
      "execution_count": 0,
      "outputs": []
    },
    {
      "cell_type": "code",
      "metadata": {
        "id": "w7HZywrTKcpu",
        "colab_type": "code",
        "colab": {}
      },
      "source": [
        "# [51]:"
      ],
      "execution_count": 0,
      "outputs": []
    },
    {
      "cell_type": "code",
      "metadata": {
        "id": "jnVaTL4-KcuF",
        "colab_type": "code",
        "colab": {}
      },
      "source": [
        "# [52]:"
      ],
      "execution_count": 0,
      "outputs": []
    },
    {
      "cell_type": "code",
      "metadata": {
        "id": "KqZWYks9Kcyp",
        "colab_type": "code",
        "colab": {}
      },
      "source": [
        "# [53]:"
      ],
      "execution_count": 0,
      "outputs": []
    },
    {
      "cell_type": "code",
      "metadata": {
        "id": "7mmk2UKuKc2w",
        "colab_type": "code",
        "colab": {}
      },
      "source": [
        "# [54]:"
      ],
      "execution_count": 0,
      "outputs": []
    },
    {
      "cell_type": "code",
      "metadata": {
        "id": "smxYOpNNKc6S",
        "colab_type": "code",
        "colab": {}
      },
      "source": [
        "# [55]:"
      ],
      "execution_count": 0,
      "outputs": []
    },
    {
      "cell_type": "code",
      "metadata": {
        "id": "xbR8nqX5Kc-u",
        "colab_type": "code",
        "colab": {}
      },
      "source": [
        "# [56]:"
      ],
      "execution_count": 0,
      "outputs": []
    },
    {
      "cell_type": "code",
      "metadata": {
        "id": "jMFwtZVWKdC1",
        "colab_type": "code",
        "colab": {}
      },
      "source": [
        "# [57]:"
      ],
      "execution_count": 0,
      "outputs": []
    },
    {
      "cell_type": "code",
      "metadata": {
        "id": "Yql-STgZLLTc",
        "colab_type": "code",
        "colab": {}
      },
      "source": [
        "# [58]:"
      ],
      "execution_count": 0,
      "outputs": []
    },
    {
      "cell_type": "code",
      "metadata": {
        "id": "33yU8jFuLLP5",
        "colab_type": "code",
        "colab": {}
      },
      "source": [
        "# [59]:"
      ],
      "execution_count": 0,
      "outputs": []
    },
    {
      "cell_type": "code",
      "metadata": {
        "id": "qVgHd_wSKdGp",
        "colab_type": "code",
        "colab": {}
      },
      "source": [
        "# [60]:"
      ],
      "execution_count": 0,
      "outputs": []
    },
    {
      "cell_type": "code",
      "metadata": {
        "id": "FqFDB0RoKdK9",
        "colab_type": "code",
        "colab": {}
      },
      "source": [
        "# [61]:"
      ],
      "execution_count": 0,
      "outputs": []
    },
    {
      "cell_type": "code",
      "metadata": {
        "id": "TZ3viX-oKdPh",
        "colab_type": "code",
        "colab": {}
      },
      "source": [
        "# [62]:"
      ],
      "execution_count": 0,
      "outputs": []
    },
    {
      "cell_type": "code",
      "metadata": {
        "id": "bhPzvNP_KdT4",
        "colab_type": "code",
        "colab": {}
      },
      "source": [
        "# [63]:"
      ],
      "execution_count": 0,
      "outputs": []
    },
    {
      "cell_type": "code",
      "metadata": {
        "id": "Ble-VZaEKdYf",
        "colab_type": "code",
        "colab": {}
      },
      "source": [
        "# [64]:"
      ],
      "execution_count": 0,
      "outputs": []
    },
    {
      "cell_type": "code",
      "metadata": {
        "id": "z1w9I_TyKdcI",
        "colab_type": "code",
        "colab": {}
      },
      "source": [
        "# [65]:"
      ],
      "execution_count": 0,
      "outputs": []
    },
    {
      "cell_type": "code",
      "metadata": {
        "id": "y7iYHDPIKdgr",
        "colab_type": "code",
        "colab": {}
      },
      "source": [
        "# [66]:"
      ],
      "execution_count": 0,
      "outputs": []
    },
    {
      "cell_type": "code",
      "metadata": {
        "id": "CmrwivDkKdkv",
        "colab_type": "code",
        "colab": {}
      },
      "source": [
        "# [67]:"
      ],
      "execution_count": 0,
      "outputs": []
    },
    {
      "cell_type": "code",
      "metadata": {
        "id": "KtYWqSSnKdpq",
        "colab_type": "code",
        "colab": {}
      },
      "source": [
        "# [68]:"
      ],
      "execution_count": 0,
      "outputs": []
    }
  ]
}