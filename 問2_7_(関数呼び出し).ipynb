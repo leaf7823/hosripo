{
  "nbformat": 4,
  "nbformat_minor": 0,
  "metadata": {
    "colab": {
      "name": "問2.7 (関数呼び出し)",
      "version": "0.3.2",
      "provenance": [],
      "collapsed_sections": [],
      "include_colab_link": true
    },
    "kernelspec": {
      "name": "python3",
      "display_name": "Python 3"
    }
  },
  "cells": [
    {
      "cell_type": "markdown",
      "metadata": {
        "id": "view-in-github",
        "colab_type": "text"
      },
      "source": [
        "<a href=\"https://colab.research.google.com/github/leaf7823/hosripo/blob/master/%E5%95%8F2_7_(%E9%96%A2%E6%95%B0%E5%91%BC%E3%81%B3%E5%87%BA%E3%81%97).ipynb\" target=\"_parent\"><img src=\"https://colab.research.google.com/assets/colab-badge.svg\" alt=\"Open In Colab\"/></a>"
      ]
    },
    {
      "cell_type": "code",
      "metadata": {
        "id": "LQz3bKLC6qab",
        "colab_type": "code",
        "outputId": "d4a34b9a-9151-47c3-f40d-c1024af3a1ee",
        "colab": {
          "base_uri": "https://localhost:8080/",
          "height": 53
        }
      },
      "source": [
        "def f(a):\n",
        "    a = [6, 7, 8]\n",
        "    print(a)\n",
        "\n",
        "def g(a):\n",
        "    a.append(1)\n",
        "    print(a)\n",
        "    \n",
        "f([1])\n",
        "g([1])"
      ],
      "execution_count": 0,
      "outputs": [
        {
          "output_type": "stream",
          "text": [
            "[6, 7, 8]\n",
            "[1, 1]\n"
          ],
          "name": "stdout"
        }
      ]
    },
    {
      "cell_type": "code",
      "metadata": {
        "id": "0RGKx3Q7a_cA",
        "colab_type": "code",
        "outputId": "9f596a20-deaa-41b5-a6d7-ff41b7c52d37",
        "colab": {
          "base_uri": "https://localhost:8080/",
          "height": 89
        }
      },
      "source": [
        "def somefunction():\n",
        "#   import pdb;pdb.set_trace()\n",
        "   a0 = [1, 2, 3]\n",
        "   f(a0)\n",
        "   print(a0)\n",
        "\n",
        "\n",
        "   a1 = [1, 2, 3]\n",
        "   g(a1)\n",
        "   print(a1)\n",
        "\n",
        "somefunction()"
      ],
      "execution_count": 0,
      "outputs": [
        {
          "output_type": "stream",
          "text": [
            "[6, 7, 8]\n",
            "[1, 2, 3]\n",
            "[1, 2, 3, 1]\n",
            "[1, 2, 3, 1]\n"
          ],
          "name": "stdout"
        }
      ]
    }
  ]
}