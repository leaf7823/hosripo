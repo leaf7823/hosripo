{
  "nbformat": 4,
  "nbformat_minor": 0,
  "metadata": {
    "colab": {
      "name": "random関数",
      "version": "0.3.2",
      "provenance": [],
      "include_colab_link": true
    },
    "kernelspec": {
      "name": "python3",
      "display_name": "Python 3"
    }
  },
  "cells": [
    {
      "cell_type": "markdown",
      "metadata": {
        "id": "view-in-github",
        "colab_type": "text"
      },
      "source": [
        "<a href=\"https://colab.research.google.com/github/leaf7823/hosripo/blob/master/random%E9%96%A2%E6%95%B0.ipynb\" target=\"_parent\"><img src=\"https://colab.research.google.com/assets/colab-badge.svg\" alt=\"Open In Colab\"/></a>"
      ]
    },
    {
      "cell_type": "code",
      "metadata": {
        "id": "dlIl25SAuUH-",
        "colab_type": "code",
        "outputId": "e9e15571-e5e9-48ee-b14b-b32036a45afb",
        "colab": {
          "base_uri": "https://localhost:8080/",
          "height": 34
        }
      },
      "source": [
        "# 1未満のfloat型の乱数を取得する方法1未満のfloat型の乱数を取得する方法（random.random)\n",
        "\n",
        "import random\n",
        "\n",
        "num = random.random()\n",
        "print(num)"
      ],
      "execution_count": 0,
      "outputs": [
        {
          "output_type": "stream",
          "text": [
            "0.09931444832921288\n"
          ],
          "name": "stdout"
        }
      ]
    },
    {
      "cell_type": "code",
      "metadata": {
        "id": "PDabOOZ3wfva",
        "colab_type": "code",
        "outputId": "7a2637ee-d06c-4296-e042-31ba58413ad7",
        "colab": {
          "base_uri": "https://localhost:8080/",
          "height": 34
        }
      },
      "source": [
        "# 指定した範囲の乱数を取得する方法（random.uniform(a,b)）\n",
        "\n",
        "num = random.uniform(2.0,5.0)\n",
        "print(num)"
      ],
      "execution_count": 0,
      "outputs": [
        {
          "output_type": "stream",
          "text": [
            "4.1620003701792765\n"
          ],
          "name": "stdout"
        }
      ]
    },
    {
      "cell_type": "code",
      "metadata": {
        "id": "s10AT5uJx5XX",
        "colab_type": "code",
        "outputId": "a54f3b41-7835-4513-f206-76aab7585299",
        "colab": {
          "base_uri": "https://localhost:8080/",
          "height": 34
        }
      },
      "source": [
        "# 指定した範囲の整数の乱数を取得する方法（random.randint(a,b)）\n",
        "\n",
        "num = random.randint(1,10)\n",
        "print(num)"
      ],
      "execution_count": 0,
      "outputs": [
        {
          "output_type": "stream",
          "text": [
            "2\n"
          ],
          "name": "stdout"
        }
      ]
    },
    {
      "cell_type": "code",
      "metadata": {
        "id": "OeUhpXgrx-wC",
        "colab_type": "code",
        "outputId": "92e83483-3d51-4a74-bf7b-09a13a887700",
        "colab": {
          "base_uri": "https://localhost:8080/",
          "height": 34
        }
      },
      "source": [
        "# 配列の中身をランダムに取得する方法（random.choice(a)）\n",
        "\n",
        "mylist = [\"apple\", \"banana\", \"melon\", \"strawberry\", \"peach\", \"lemon\"]\n",
        "print(random.choice(mylist))"
      ],
      "execution_count": 0,
      "outputs": [
        {
          "output_type": "stream",
          "text": [
            "apple\n"
          ],
          "name": "stdout"
        }
      ]
    },
    {
      "cell_type": "code",
      "metadata": {
        "id": "tQ7gTquqzTK0",
        "colab_type": "code",
        "outputId": "53eedd86-e014-4dad-d6d1-a73cd6fbf2be",
        "colab": {
          "base_uri": "https://localhost:8080/",
          "height": 34
        }
      },
      "source": [
        "# 配列の中身をシャッフルする方法（random.shuffle(a)）\n",
        "\n",
        "mylist = [\"apple\", \"banana\", \"melon\", \"strawberry\", \"peach\", \"lemon\"]\n",
        "random.shuffle(mylist)\n",
        "print(mylist)"
      ],
      "execution_count": 0,
      "outputs": [
        {
          "output_type": "stream",
          "text": [
            "['banana', 'melon', 'apple', 'strawberry', 'peach', 'lemon']\n"
          ],
          "name": "stdout"
        }
      ]
    },
    {
      "cell_type": "code",
      "metadata": {
        "id": "7CrutWXy1kby",
        "colab_type": "code",
        "colab": {}
      },
      "source": [
        ""
      ],
      "execution_count": 0,
      "outputs": []
    }
  ]
}